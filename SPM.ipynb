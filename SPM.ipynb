{
  "nbformat": 4,
  "nbformat_minor": 0,
  "metadata": {
    "colab": {
      "provenance": [],
      "authorship_tag": "ABX9TyNZs6ZoO98qY1/LEaZ79WYI",
      "include_colab_link": true
    },
    "kernelspec": {
      "name": "python3",
      "display_name": "Python 3"
    },
    "language_info": {
      "name": "python"
    }
  },
  "cells": [
    {
      "cell_type": "markdown",
      "metadata": {
        "id": "view-in-github",
        "colab_type": "text"
      },
      "source": [
        "<a href=\"https://colab.research.google.com/github/SriRama29/math/blob/main/SPM.ipynb\" target=\"_parent\"><img src=\"https://colab.research.google.com/assets/colab-badge.svg\" alt=\"Open In Colab\"/></a>"
      ]
    },
    {
      "cell_type": "markdown",
      "source": [
        "# Single Particle Model\n",
        "\n",
        "In this code fragment, we will see the implementation of a single particle model for a lithium ion battery. Firstly, let us take a look at the equations we would need for it.\n",
        "\n",
        "The first thing we need is a way to track the concentration of lithium in the electrodes. We can do that by the following equation\n",
        "\n",
        "\n",
        "## Anode\n",
        "\n",
        "### 1. Concentration of lithium in the electrode\n",
        "$$\\frac{\\partial c_{s,i} (r,t)}{\\partial t}=\\frac{D_i}{r^2}.\\frac{\\partial}{\\partial r} \\left( r^2 \\frac{\\partial c_{s,i} (r,t)}{\\partial r} \\right)$$\n",
        "\n"
      ],
      "metadata": {
        "id": "5qqB35KIvHVx"
      }
    },
    {
      "cell_type": "code",
      "source": [
        "import numpy as np\n",
        "import matplotlib.pyplot as plt\n",
        "\n",
        "N=100\n",
        "Rn=2e-6\n",
        "Rp=2e-6\n",
        "dRn=Rn/N\n",
        "dRp=Rp/N\n",
        "\n",
        "SOC0=1e-3\n",
        "c0n=3.0555e-2*1e6 #mol/m3\n",
        "cinitn=c0n*SOC0*np.ones((N,1))\n",
        "c0p=5.1555e-2*1e6 # mol/m3\n",
        "cinitp=c0p*(1-SOC0)*np.ones((N,1))\n",
        "\n",
        "\n"
      ],
      "metadata": {
        "id": "WixLipVCwnwr"
      },
      "execution_count": 1,
      "outputs": []
    },
    {
      "cell_type": "markdown",
      "source": [
        "\n",
        "\n",
        "### 2. Boundary condition 1\n",
        "At the center of the sphere, the gradient is 0\n",
        "\n",
        "$$D_a \\frac{\\partial c_{s,a}(0,t)}{\\partial r}=0$$\n",
        "\n",
        "### 3. Boundary condition 2\n",
        "At the edge of the sphere, the gradient is caused by the intercalation current\n",
        "\n",
        "$$D_a \\frac{\\partial c_{s,a}(r_a,t)}{\\partial r}=j_a$$\n",
        "\n",
        "### 4. Intercalation current\n",
        "The flux across the particle can be written by the following equation\n",
        "$$j_a=\\frac{i_a}{nF}=\\frac{I_a}{V_aanF}$$\n",
        "\n",
        "Here a is the active surface area which is given as,\n",
        "\n",
        "$$a_a=\\frac{3.\\epsilon_a}{R}$$\n",
        "\n",
        "## Cathode\n",
        "### 1. Concentration of lithium in the cathode\n",
        "$$\\frac{\\partial c_{s,c} (r,t)}{\\partial t}=\\frac{D_c}{r^2}.\\frac{\\partial}{\\partial r} \\left( r^2 \\frac{\\partial c_{s,c} (r,t)}{\\partial r} \\right)$$\n",
        "\n",
        "### 2. Boundary condition 1\n",
        "At the center of the sphere, the gradient is 0\n",
        "\n",
        "$$D_c \\frac{\\partial c_{s,ac}(0,t)}{\\partial r}=0$$\n",
        "\n",
        "### 3. Boundary condition 2\n",
        "At the edge of the sphere, the gradient is caused by the intercalation current\n",
        "\n",
        "$$D_a \\frac{\\partial c_{s,a}(r_c,t)}{\\partial r}=j_c$$\n",
        "\n",
        "\n",
        "### 4. Intercalation current\n",
        "The flux across the particle can be written by the following equation\n",
        "$$j_c=\\frac{i_c}{nF}=\\frac{I_c}{V_aanF}$$\n",
        "\n",
        "Here a is the active surface area which is given as,\n",
        "\n",
        "$$a_c=\\frac{3.\\epsilon_c}{R}$$\n"
      ],
      "metadata": {
        "id": "rXwwpQUoTj1U"
      }
    },
    {
      "cell_type": "code",
      "execution_count": null,
      "metadata": {
        "id": "_lC1mnV5D0nK"
      },
      "outputs": [],
      "source": []
    }
  ]
}