{
  "nbformat": 4,
  "nbformat_minor": 0,
  "metadata": {
    "colab": {
      "provenance": [],
      "authorship_tag": "ABX9TyNEOjKvhhHD2kaJrRzIaWbN",
      "include_colab_link": true
    },
    "kernelspec": {
      "name": "python3",
      "display_name": "Python 3"
    },
    "language_info": {
      "name": "python"
    }
  },
  "cells": [
    {
      "cell_type": "markdown",
      "metadata": {
        "id": "view-in-github",
        "colab_type": "text"
      },
      "source": [
        "<a href=\"https://colab.research.google.com/github/SriRama29/math/blob/main/exercise0_python_intro/install_python.ipynb\" target=\"_parent\"><img src=\"https://colab.research.google.com/assets/colab-badge.svg\" alt=\"Open In Colab\"/></a>"
      ]
    },
    {
      "cell_type": "markdown",
      "source": [
        "# Mathematical fundamentals for Electrochemical energy storage systems\n",
        "\n",
        "## Exercises\n",
        "\n",
        "\n",
        "\n",
        "*   <u>**What to expect?**</u>:\n",
        "In these exercises we will use Python to demonstrate/implement/explore the concepts learnt in the lecture. A majority of these applications will be related to batteries or electrochemistry.\n",
        "*   <u>**Do you need to know programming?**</u>: You definitely do not. Any programing concept or terminology that will be required for\n",
        "\n",
        "\n",
        "\n",
        "\n",
        "\n",
        "\n"
      ],
      "metadata": {
        "id": "xdNQi2FQNinu"
      }
    },
    {
      "cell_type": "code",
      "execution_count": null,
      "metadata": {
        "id": "nZr4GIWjI9lh"
      },
      "outputs": [],
      "source": []
    }
  ]
}