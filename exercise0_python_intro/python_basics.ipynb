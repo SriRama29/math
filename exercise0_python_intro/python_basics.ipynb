{
  "nbformat": 4,
  "nbformat_minor": 0,
  "metadata": {
    "colab": {
      "provenance": [],
      "authorship_tag": "ABX9TyPdX6Tzldhz9wz94dg2yXz1",
      "include_colab_link": true
    },
    "kernelspec": {
      "name": "python3",
      "display_name": "Python 3"
    },
    "language_info": {
      "name": "python"
    }
  },
  "cells": [
    {
      "cell_type": "markdown",
      "metadata": {
        "id": "view-in-github",
        "colab_type": "text"
      },
      "source": [
        "<a href=\"https://colab.research.google.com/github/SriRama29/math/blob/main/exercise0_python_intro/python_basics.ipynb\" target=\"_parent\"><img src=\"https://colab.research.google.com/assets/colab-badge.svg\" alt=\"Open In Colab\"/></a>"
      ]
    },
    {
      "cell_type": "markdown",
      "source": [
        "# Introduction to programming with Python\n",
        "\n",
        "Python is an easy programming language to learn because of the availability of several libraries depending on your applications. Libraries are essentially pieces of code that is already written by someone else and you are the end user of it. There are several libraries we will use in this course in the different exercises. The appropriate libraries will be introduced prior to the exercise.\n",
        "\n",
        "\n",
        "\n",
        "# Example: Numpy\n",
        "Numpy is a library that we will use regularly in the course. It makes it easy to perform vector and matrix calculations in python. It offers us the ability to create a variable known as an array.\n",
        "\n",
        "You can think of array as a collection of numbers that can have any number of dimensions. A 0 dimensional array is also usually called as a vector. A 1 or 2D array can be called as a matrix.\n",
        "\n",
        "In the code fragment below, we will import the numpy library and the matplotlib library to plot the function $$y=sin(x); x=[0,2\\pi]$$\n",
        "\n",
        "The code below introduces the following concepts of programming,\n",
        "\n",
        "* Vectors and Matrices\n",
        "* arange function in numpy\n",
        "* plot function in matplotlib\n",
        "* Comments in Python\n"
      ],
      "metadata": {
        "id": "jvBC9ENuS9uZ"
      }
    },
    {
      "cell_type": "code",
      "execution_count": 6,
      "metadata": {
        "colab": {
          "base_uri": "https://localhost:8080/",
          "height": 503
        },
        "id": "TYjif1mKNs0b",
        "outputId": "e8e6eb7a-979f-481b-d847-e7ff56cc9c05"
      },
      "outputs": [
        {
          "output_type": "stream",
          "name": "stdout",
          "text": [
            "(629,)\n",
            "(629,)\n"
          ]
        },
        {
          "output_type": "execute_result",
          "data": {
            "text/plain": [
              "Text(0, 0.5, 'y')"
            ]
          },
          "metadata": {},
          "execution_count": 6
        },
        {
          "output_type": "display_data",
          "data": {
            "text/plain": [
              "<Figure size 640x480 with 1 Axes>"
            ],
            "image/png": "[encoded data removed]"
          },
          "metadata": {}
        }
      ],
      "source": [
        "# This code fragment imports numpy and matplotlib and then plots the function y=sin(x)\n",
        "\n",
        "import numpy as np\n",
        "import matplotlib.pyplot as plt\n",
        "\n",
        "# Create numbers between 0 to 2*pi with a step of 0.01\n",
        "x=np.arange(start=0,stop=2*np.pi,step=0.01)\n",
        "print(x.shape) # prints the shape of the array, which in this case has 1D\n",
        "\n",
        "y=np.sin(x)\n",
        "print(y.shape) # prints the shape of the array, which in this case has 1D\n",
        "plt.plot(x,y)\n",
        "plt.xlabel(\"x\")\n",
        "plt.ylabel(\"y\")"
      ]
    },
    {
      "cell_type": "markdown",
      "source": [
        "An arrays shape can be changed. For example, in the code above x and y have a shape of (629,), which means it has a length of 629. As far as python is concerned, the array x does not have a column. But you can specifically tell it that it needs to have 1 column by using reshape."
      ],
      "metadata": {
        "id": "UfVlzAZMxTgq"
      }
    },
    {
      "cell_type": "code",
      "source": [
        "# reshaping the variable x and y to now have one column\n",
        "\n",
        "x=x.reshape(629,1)\n",
        "y=y.reshape(629,1)\n",
        "print(x.shape)\n",
        "print(y.shape)"
      ],
      "metadata": {
        "colab": {
          "base_uri": "https://localhost:8080/"
        },
        "id": "CF2nMG5Lv4M8",
        "outputId": "6f1b6748-ba97-453d-c1d1-b6fd9565afee"
      },
      "execution_count": 8,
      "outputs": [
        {
          "output_type": "stream",
          "name": "stdout",
          "text": [
            "(629, 1)\n",
            "(629, 1)\n"
          ]
        }
      ]
    },
    {
      "cell_type": "markdown",
      "source": [
        "# Operators in programming\n",
        "\n",
        "Just like in mathematics, in programming we have different operators to do different operations\n",
        "\n",
        "## Mathematical operations\n",
        "These are operators that can be used to add any numbers or arrays in python.\n",
        "\n",
        "Addition (+), subtraction (-), multiplication (*), division (/), reminder (%)\n",
        "\n",
        "## Conditional operations\n",
        "These are operators that can be used to check for conditions between two numbers. More about them will be described in subsequent sections.\n",
        "\n",
        "greater (>), greater than or equal to (>=), lesser (<), lesser than or equal to (<=), equals (==), not equal (!=)\n",
        "\n",
        "In the following code fragment, we will see how the two operations can be used in python by developing two simple python applications. Firstly, we will create a simple calculator that can take as inputs two vectors of the same size and performs the mathematical operations on them. Next, we will take two numbers as input from the user and then check the relationship between them. Two concepts of programming are explained here\n",
        "\n",
        "* Vectorization\n",
        "* np.linspace\n",
        "* if conditions\n",
        "\n",
        "#Application 1"
      ],
      "metadata": {
        "id": "PfyzvgmjzadU"
      }
    },
    {
      "cell_type": "code",
      "source": [
        "# Application 1\n",
        "a=np.linspace(start=0,stop=1,num=5)\n",
        "print(a.shape)\n",
        "b=np.linspace(start=2,stop=-6,num=5)\n",
        "print(b.shape)\n",
        "print(a)\n",
        "print(b)\n",
        "operator=input(\"Enter the operator you want: \")\n",
        "\n",
        "if(operator==\"+\"):\n",
        "\n",
        "  print(a+b)\n",
        "elif(operator==\"-\"):\n",
        "  print(a-b)\n",
        "elif(operator==\"*\"):\n",
        "  print(a*b)\n",
        "elif(operator==\"/\"):\n",
        "  print(a/b)\n",
        "elif(operator==\"%\"):\n",
        "  print(a%b)\n",
        "else:\n",
        "  print(\"invalid character\")\n"
      ],
      "metadata": {
        "colab": {
          "base_uri": "https://localhost:8080/"
        },
        "id": "mysgxvx7yOzn",
        "outputId": "031dd6fc-cb31-48db-8e80-e75d9f04244e"
      },
      "execution_count": 11,
      "outputs": [
        {
          "output_type": "stream",
          "name": "stdout",
          "text": [
            "(5,)\n",
            "(5,)\n",
            "[0.   0.25 0.5  0.75 1.  ]\n",
            "[ 2.  0. -2. -4. -6.]\n",
            "Enter the operator you want: %\n",
            "[ 0.     nan -1.5  -3.25 -5.  ]\n"
          ]
        },
        {
          "output_type": "stream",
          "name": "stderr",
          "text": [
            "<ipython-input-11-70bf45452d68>:20: RuntimeWarning: invalid value encountered in remainder\n",
            "  print(a%b)\n"
          ]
        }
      ]
    },
    {
      "cell_type": "markdown",
      "source": [
        "# Application 2"
      ],
      "metadata": {
        "id": "gL4BsCTZ6xOX"
      }
    },
    {
      "cell_type": "code",
      "source": [
        "# Application 2\n",
        "a=int(input(\"Enter first number: \"))\n",
        "b=int(input(\"Enter second number: \"))\n",
        "\n",
        "if(a>b):\n",
        "  print(\"a is greater than b\")\n",
        "elif(a<b):\n",
        "  print(\"a is lesser than b\")\n",
        "else:\n",
        "  print(\"a is not equa\")"
      ],
      "metadata": {
        "colab": {
          "base_uri": "https://localhost:8080/"
        },
        "id": "NJ032J2K5oxU",
        "outputId": "b283c54f-6fc4-406c-c0b2-a2305a133cfc"
      },
      "execution_count": 12,
      "outputs": [
        {
          "output_type": "stream",
          "name": "stdout",
          "text": [
            "Enter first number: 22\n",
            "Enter second number: 11\n",
            "a is greater than b\n"
          ]
        }
      ]
    },
    {
      "cell_type": "code",
      "source": [],
      "metadata": {
        "id": "XPTsSO6l7Jvt"
      },
      "execution_count": null,
      "outputs": []
    }
  ]
}