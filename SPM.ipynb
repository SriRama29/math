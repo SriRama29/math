{
  "nbformat": 4,
  "nbformat_minor": 0,
  "metadata": {
    "colab": {
      "provenance": [],
      "authorship_tag": "ABX9TyMcbhYJZ9MwA2aMzsWT4obe",
      "include_colab_link": true
    },
    "kernelspec": {
      "name": "python3",
      "display_name": "Python 3"
    },
    "language_info": {
      "name": "python"
    }
  },
  "cells": [
    {
      "cell_type": "markdown",
      "metadata": {
        "id": "view-in-github",
        "colab_type": "text"
      },
      "source": [
        "<a href=\"https://colab.research.google.com/github/SriRama29/math/blob/main/SPM.ipynb\" target=\"_parent\"><img src=\"https://colab.research.google.com/assets/colab-badge.svg\" alt=\"Open In Colab\"/></a>"
      ]
    },
    {
      "cell_type": "markdown",
      "source": [
        "# Single Particle Model\n",
        "\n",
        "In this code fragment, we will see the implementation of a single particle model for a lithium ion battery. Firstly, let us take a look at the equations we would need for it.\n",
        "\n",
        "The first thing we need is a way to track the concentration of lithium in the electrodes. We can do that by the following equation\n",
        "\n",
        "\n",
        "## Anode\n",
        "\n",
        "### 1. Concentration of lithium in the electrode\n",
        "$$\\frac{\\partial c_{s,i} (r,t)}{\\partial t}=\\frac{D_i}{r^2}.\\frac{\\partial}{\\partial r} \\left( r^2 \\frac{\\partial c_{s,i} (r,t)}{\\partial r} \\right)$$\n",
        "\n"
      ],
      "metadata": {
        "id": "5qqB35KIvHVx"
      }
    },
    {
      "cell_type": "code",
      "source": [
        "import numpy as np\n",
        "import matplotlib.pyplot as plt\n",
        "\n",
        "N=100 # Number of spheres\n",
        "Rn=2e-6 # radius of the anode\n",
        "Dn=3.8e-14\n",
        "Rp=2e-6 # radius of the cathode\n",
        "Dp=1e-13\n",
        "dRn=Rn/N # gap between the shells anode\n",
        "dRp=Rp/N # gap between the shells cathode\n",
        "\n",
        "SOC0=1e-3 # Initial SOC\n",
        "c0n=3.0555e-2*1e6 #mol/m3\n",
        "cn=c0n*SOC0*np.ones((N,1)) # Initial concentration anode\n",
        "c0p=5.1555e-2*1e6 # mol/m3\n",
        "cp=c0p*(1-SOC0)*np.ones((N,1)) # Initial concentration cathode\n",
        "\n",
        "rin=np.linspace(Rn/N,Rn,N)\n",
        "rip=np.linspace(Rp/N,Rp,N)\n",
        "\n",
        "SAn=4*np.pi*((rin)**2)\n",
        "Vn=((4/3)*np.pi*((rin[1:100])**3))-((4/3)*np.pi*((rin[0:99])**3))\n",
        "\n",
        "SAp=4*np.pi*((rip)**2)\n",
        "Vp=((4/3)*np.pi*((rip[1:100])**3))-((4/3)*np.pi*((rip[0:99])**3))\n",
        "\n",
        "Nn=-Dn*np.diff(cp)/dRn\n",
        "Np=-Dp*np.diff(cn)/dRp\n",
        "\n",
        "print(len(np.diff(cp)))\n",
        "print(len(cp))\n"
      ],
      "metadata": {
        "id": "WixLipVCwnwr",
        "colab": {
          "base_uri": "https://localhost:8080/"
        },
        "outputId": "54528392-1c31-49c5-9285-22c79cc49d93"
      },
      "execution_count": 20,
      "outputs": [
        {
          "output_type": "stream",
          "name": "stdout",
          "text": [
            "100\n",
            "100\n"
          ]
        }
      ]
    },
    {
      "cell_type": "markdown",
      "source": [
        "\n",
        "\n",
        "### 2. Boundary condition 1\n",
        "At the center of the sphere, the gradient is 0\n",
        "\n",
        "$$D_a \\frac{\\partial c_{s,a}(0,t)}{\\partial r}=0$$\n",
        "\n",
        "### 3. Boundary condition 2\n",
        "At the edge of the sphere, the gradient is caused by the intercalation current\n",
        "\n",
        "$$D_a \\frac{\\partial c_{s,a}(r_a,t)}{\\partial r}=j_a$$\n",
        "\n",
        "### 4. Intercalation current\n",
        "The flux across the particle can be written by the following equation\n",
        "$$j_a=\\frac{i_a}{nF}=\\frac{I_a}{V_aanF}$$\n",
        "\n",
        "Here a is the active surface area which is given as,\n",
        "\n",
        "$$a_a=\\frac{3.\\epsilon_a}{R}$$\n",
        "\n",
        "## Cathode\n",
        "### 1. Concentration of lithium in the cathode\n",
        "$$\\frac{\\partial c_{s,c} (r,t)}{\\partial t}=\\frac{D_c}{r^2}.\\frac{\\partial}{\\partial r} \\left( r^2 \\frac{\\partial c_{s,c} (r,t)}{\\partial r} \\right)$$\n",
        "\n",
        "### 2. Boundary condition 1\n",
        "At the center of the sphere, the gradient is 0\n",
        "\n",
        "$$D_c \\frac{\\partial c_{s,ac}(0,t)}{\\partial r}=0$$\n",
        "\n",
        "### 3. Boundary condition 2\n",
        "At the edge of the sphere, the gradient is caused by the intercalation current\n",
        "\n",
        "$$D_a \\frac{\\partial c_{s,a}(r_c,t)}{\\partial r}=j_c$$\n",
        "\n",
        "\n",
        "### 4. Intercalation current\n",
        "The flux across the particle can be written by the following equation\n",
        "$$j_c=\\frac{i_c}{nF}=\\frac{I_c}{V_aanF}$$\n",
        "\n",
        "Here a is the active surface area which is given as,\n",
        "\n",
        "$$a_c=\\frac{3.\\epsilon_c}{R}$$\n"
      ],
      "metadata": {
        "id": "rXwwpQUoTj1U"
      }
    },
    {
      "cell_type": "code",
      "execution_count": null,
      "metadata": {
        "id": "_lC1mnV5D0nK"
      },
      "outputs": [],
      "source": []
    }
  ]
}