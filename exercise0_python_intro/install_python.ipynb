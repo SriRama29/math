{
  "nbformat": 4,
  "nbformat_minor": 0,
  "metadata": {
    "colab": {
      "provenance": [],
      "authorship_tag": "ABX9TyOXWxy3yVbQWnIzNvLuQH4x",
      "include_colab_link": true
    },
    "kernelspec": {
      "name": "python3",
      "display_name": "Python 3"
    },
    "language_info": {
      "name": "python"
    }
  },
  "cells": [
    {
      "cell_type": "markdown",
      "metadata": {
        "id": "view-in-github",
        "colab_type": "text"
      },
      "source": [
        "<a href=\"https://colab.research.google.com/github/SriRama29/math/blob/main/exercise0_python_intro/install_python.ipynb\" target=\"_parent\"><img src=\"https://colab.research.google.com/assets/colab-badge.svg\" alt=\"Open In Colab\"/></a>"
      ]
    },
    {
      "cell_type": "markdown",
      "source": [
        "# Mathematical fundamentals for Electrochemical energy storage systems\n",
        "\n",
        "## Introduction\n",
        "\n",
        "\n",
        "\n",
        "*   <u>**What to expect?**</u>:\n",
        "In these exercises we will use Python to demonstrate/implement/explore the concepts learnt in the lecture. A majority of these applications will be related to batteries or electrochemistry.\n",
        "*   <u>**Do you need to know programming?**</u>: You definitely do not. Any programing concept or terminology that will be required for the course will be taught on the day of the exercise. Having said that, considering the speed of the course, the students are expected to practice at home to keep up with more advanced concepts.\n",
        "*   <u>**Will I be asked to code in the exam?**</u>: Yes and no. There will be questions related to the exercise in the exam. However, you would not have to write an entire python script but rather write pseudo code. Or you might be asked to find the error in a piece of code. The concepts from the homeworks and the lectures are more important to the exam.\n",
        "\n",
        "## Installing python\n",
        "\n",
        "* In this course, we will be using the python version that comes with the anacond distribution. This is because anaconda distribution also provides the Spyder IDE that makes it convenient to write and debug code.\n",
        "\n",
        "* Students can download and install the anaconda distribution from the link here\n",
        "https://www.anaconda.com/download/success\n",
        "\n",
        "\n",
        "## What is the plan for today?\n",
        "\n",
        "* Some programming and python basics\n",
        "* What you can do at the end of the course\n",
        "* A quick discussion of the first exercise\n",
        "\n",
        "\n",
        "\n",
        "\n",
        "\n",
        "\n",
        "\n",
        "\n",
        "\n",
        "\n"
      ],
      "metadata": {
        "id": "xdNQi2FQNinu"
      }
    },
    {
      "cell_type": "code",
      "execution_count": null,
      "metadata": {
        "id": "nZr4GIWjI9lh"
      },
      "outputs": [],
      "source": []
    }
  ]
}